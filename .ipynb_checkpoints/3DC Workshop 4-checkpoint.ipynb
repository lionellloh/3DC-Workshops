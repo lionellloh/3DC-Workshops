{
 "cells": [
  {
   "cell_type": "markdown",
   "metadata": {},
   "source": [
    "### Define a Class"
   ]
  },
  {
   "cell_type": "code",
   "execution_count": 4,
   "metadata": {},
   "outputs": [],
   "source": [
    "class Employee(object): \n",
    "    pass "
   ]
  },
  {
   "cell_type": "markdown",
   "metadata": {},
   "source": [
    "### Create an Instance of the class"
   ]
  },
  {
   "cell_type": "code",
   "execution_count": 7,
   "metadata": {},
   "outputs": [
    {
     "name": "stdout",
     "output_type": "stream",
     "text": [
      "<class 'str'>\n",
      "<class '__main__.Employee'>\n"
     ]
    }
   ],
   "source": [
    "emp_1 = Employee()\n",
    "emp_2 = Employee()\n",
    "\n",
    "print(type(\"hello\"))\n",
    "print(type(emp_1))"
   ]
  },
  {
   "cell_type": "markdown",
   "metadata": {},
   "source": [
    "### Adding Attributes to an object "
   ]
  },
  {
   "cell_type": "code",
   "execution_count": 8,
   "metadata": {},
   "outputs": [],
   "source": [
    "emp_1.first = \"John\"\n",
    "emp_1.last = \"Doe\""
   ]
  },
  {
   "cell_type": "code",
   "execution_count": 11,
   "metadata": {},
   "outputs": [
    {
     "name": "stdout",
     "output_type": "stream",
     "text": [
      "John\n",
      "Doe\n"
     ]
    }
   ],
   "source": [
    "print(emp_1.first)\n",
    "print(emp_1.last)"
   ]
  },
  {
   "cell_type": "markdown",
   "metadata": {},
   "source": [
    "### The __init__ method\n",
    "\n",
    "The first parameter is self, which is the object/instance itself"
   ]
  },
  {
   "cell_type": "code",
   "execution_count": 40,
   "metadata": {},
   "outputs": [],
   "source": [
    "class Employee(object): \n",
    "    def __init__(self, first, last, pay): \n",
    "        self.first = first\n",
    "        self.last = last\n",
    "        self.pay = pay \n",
    "        self.email = first + '.' + last + '@company.com'"
   ]
  },
  {
   "cell_type": "markdown",
   "metadata": {},
   "source": [
    "The __init__ method will run automatically! "
   ]
  },
  {
   "cell_type": "code",
   "execution_count": 41,
   "metadata": {},
   "outputs": [
    {
     "name": "stdout",
     "output_type": "stream",
     "text": [
      "Isaac\n",
      "5000\n"
     ]
    }
   ],
   "source": [
    "# emp_1 = Employee()\n",
    "emp_1 = Employee(\"Isaac\", \"Newton\", 5000)\n",
    "print(emp_1.first)\n",
    "print(emp_1.pay)"
   ]
  },
  {
   "cell_type": "markdown",
   "metadata": {},
   "source": [
    "### Giving the Class some default parameter values "
   ]
  },
  {
   "cell_type": "code",
   "execution_count": 42,
   "metadata": {},
   "outputs": [],
   "source": [
    "class Employee(object): \n",
    "    def __init__(self, first = \"None\", last = \"None\", pay = \"None\"): \n",
    "        self.first = first\n",
    "        self.last = last\n",
    "        self.pay = pay \n",
    "        self.email = first + '.' + last + '@company.com'"
   ]
  },
  {
   "cell_type": "code",
   "execution_count": 43,
   "metadata": {},
   "outputs": [
    {
     "name": "stdout",
     "output_type": "stream",
     "text": [
      "None\n",
      "None\n"
     ]
    }
   ],
   "source": [
    "emp_2 = Employee()\n",
    "print(emp_2.first)\n",
    "print(emp_2.last)"
   ]
  },
  {
   "cell_type": "markdown",
   "metadata": {},
   "source": [
    "### String formatting "
   ]
  },
  {
   "cell_type": "code",
   "execution_count": 44,
   "metadata": {},
   "outputs": [
    {
     "name": "stdout",
     "output_type": "stream",
     "text": [
      "the first value is 5, the second value is 2\n"
     ]
    }
   ],
   "source": [
    "print(\"the first value is {}, the second value is {}\".format(5,2))"
   ]
  },
  {
   "cell_type": "code",
   "execution_count": 45,
   "metadata": {},
   "outputs": [
    {
     "name": "stdout",
     "output_type": "stream",
     "text": [
      "I am feeling happy, because tomorrow is physics test!\n"
     ]
    }
   ],
   "source": [
    "emotion = \"happy\"\n",
    "reason = \"tomorrow is physics test!\"\n",
    "\n",
    "print(\"I am feeling {}, because {}\".format(emotion, reason))"
   ]
  },
  {
   "cell_type": "markdown",
   "metadata": {},
   "source": [
    "### Your first method!"
   ]
  },
  {
   "cell_type": "code",
   "execution_count": 49,
   "metadata": {},
   "outputs": [],
   "source": [
    "class Employee(object): \n",
    "    def __init__(self, first = \"None\", last = \"None\", pay = \"None\"): \n",
    "        self.first = first\n",
    "        self.last = last\n",
    "        self.pay = pay \n",
    "        self.email = first + '.' + last + '@company.com'\n",
    "    \n",
    "    def introduce(self):\n",
    "        return (\"Hello, my name is {} {}!\".format(self.first, self.last))\n",
    "    \n",
    "  "
   ]
  },
  {
   "cell_type": "code",
   "execution_count": 51,
   "metadata": {},
   "outputs": [
    {
     "name": "stdout",
     "output_type": "stream",
     "text": [
      "Hello, my name is Amy Tan!\n"
     ]
    }
   ],
   "source": [
    "emp_3 = Employee(\"Amy\", \"Tan\", 100)\n",
    "\n",
    "print(emp_3.introduce())"
   ]
  },
  {
   "cell_type": "code",
   "execution_count": null,
   "metadata": {},
   "outputs": [],
   "source": []
  },
  {
   "cell_type": "markdown",
   "metadata": {},
   "source": [
    "### Your second method"
   ]
  },
  {
   "cell_type": "code",
   "execution_count": 56,
   "metadata": {},
   "outputs": [],
   "source": [
    "class Employee(object): \n",
    "    def __init__(self, first = \"None\", last = \"None\", pay = \"None\"): \n",
    "        self.first = first\n",
    "        self.last = last\n",
    "        self.pay = pay \n",
    "        self.email = first + '.' + last + '@company.com'\n",
    "    \n",
    "    def introduce(self):\n",
    "        return (\"Hello, my name is {} {}!\".format(self.first, self.last))\n",
    "    \n",
    "    def raise_pay(self):\n",
    "        self.pay += 10"
   ]
  },
  {
   "cell_type": "code",
   "execution_count": 57,
   "metadata": {},
   "outputs": [
    {
     "name": "stdout",
     "output_type": "stream",
     "text": [
      "100\n"
     ]
    }
   ],
   "source": [
    "emp_3 = Employee(\"Amy\", \"Tan\", 100)\n",
    "print(emp_3.pay)\n",
    "\n"
   ]
  },
  {
   "cell_type": "code",
   "execution_count": null,
   "metadata": {},
   "outputs": [],
   "source": [
    "emp_3.raise_pay()\n",
    "print(emp_3.pay)"
   ]
  },
  {
   "cell_type": "markdown",
   "metadata": {},
   "source": [
    "### Challenge 1\n",
    "\n",
    "Create a class: Bank with initial attributes \n",
    "- self.balance\n",
    "\n",
    "Create the following methods: \n",
    "- self.deposit(amt_to_deposit)\n",
    "- self.withdraw(amt_to_withdraw)"
   ]
  },
  {
   "cell_type": "markdown",
   "metadata": {},
   "source": [
    "### You first special method: str "
   ]
  },
  {
   "cell_type": "code",
   "execution_count": 59,
   "metadata": {},
   "outputs": [
    {
     "name": "stdout",
     "output_type": "stream",
     "text": [
      "<__main__.Employee object at 0x107ec2b38>\n"
     ]
    }
   ],
   "source": [
    "print(emp_3)"
   ]
  },
  {
   "cell_type": "code",
   "execution_count": 62,
   "metadata": {},
   "outputs": [],
   "source": [
    "class Employee(object): \n",
    "    def __init__(self, first = \"None\", last = \"None\", pay = \"None\"): \n",
    "        self.first = first\n",
    "        self.last = last\n",
    "        self.pay = pay \n",
    "        self.email = first + '.' + last + '@company.com'\n",
    "    \n",
    "    def introduce(self):\n",
    "        return (\"Hello, my name is {} {}!\".format(self.first, self.last))\n",
    "    \n",
    "    def raise_pay(self):\n",
    "        self.pay += 10\n",
    "        \n",
    "    def __str__(self):\n",
    "        return (\"Employee {} {} has a pay of {}\".format(self.first,\n",
    "                                                        self.last,\n",
    "                                                        self.pay))\n",
    "    def __call__():\n",
    "        return (\"first: \")"
   ]
  },
  {
   "cell_type": "code",
   "execution_count": 63,
   "metadata": {},
   "outputs": [
    {
     "name": "stdout",
     "output_type": "stream",
     "text": [
      "Employee Amy Tan has a pay of 110\n"
     ]
    }
   ],
   "source": [
    "emp_3 = Employee(\"Amy\", \"Tan\", 100)\n",
    "emp_3.raise_pay()\n",
    "\n",
    "print(emp_3)"
   ]
  },
  {
   "cell_type": "markdown",
   "metadata": {},
   "source": [
    "### Special method 2: call( )"
   ]
  },
  {
   "cell_type": "code",
   "execution_count": 68,
   "metadata": {},
   "outputs": [],
   "source": [
    "class Employee(object): \n",
    "    def __init__(self, first = \"None\", last = \"None\", pay = \"None\"): \n",
    "        self.first = first\n",
    "        self.last = last\n",
    "        self.pay = pay \n",
    "        self.email = first + '.' + last + '@company.com'\n",
    "    \n",
    "    def introduce(self):\n",
    "        return (\"Hello, my name is {} {}!\".format(self.first, self.last))\n",
    "    \n",
    "    def raise_pay(self):\n",
    "        self.pay += 10\n",
    "        \n",
    "    def __str__(self):\n",
    "        return (\"Employee {} {} has a pay of {}\".format(self.first,\n",
    "                                                        self.last,\n",
    "                                                        self.pay))\n",
    "    def __call__(self):\n",
    "        return \"first name: {}, last name: {}, pay: {}, email: {}\".format(self.first, self.last, self.pay, self.email)\n",
    "               "
   ]
  },
  {
   "cell_type": "code",
   "execution_count": 69,
   "metadata": {},
   "outputs": [
    {
     "name": "stdout",
     "output_type": "stream",
     "text": [
      "Employee Amy Tan has a pay of 110\n",
      "first name: Amy, last name: Tan, pay: 110, email: Amy.Tan@company.com\n"
     ]
    }
   ],
   "source": [
    "emp_3 = Employee(\"Amy\", \"Tan\", 100)\n",
    "emp_3.raise_pay()\n",
    "\n",
    "print(emp_3)\n",
    "print(emp_3())"
   ]
  },
  {
   "cell_type": "markdown",
   "metadata": {},
   "source": [
    "### Challenge 2\n",
    "\n",
    "add 2 other attributes: \n",
    "- self.owner\n",
    "- self.branch\n",
    "\n",
    "add a __call__ method that returns the current account balance "
   ]
  },
  {
   "cell_type": "markdown",
   "metadata": {},
   "source": [
    "### Special Method 3: __add__( )"
   ]
  },
  {
   "cell_type": "code",
   "execution_count": 81,
   "metadata": {},
   "outputs": [],
   "source": [
    "class Employee(object): \n",
    "    def __init__(self, first = \"None\", last = \"None\", pay = \"None\"): \n",
    "        self.first = first\n",
    "        self.last = last\n",
    "        self.pay = pay \n",
    "        self.email = first + '.' + last + '@company.com'\n",
    "    \n",
    "    def introduce(self):\n",
    "        return (\"Hello, my name is {} {}!\".format(self.first, self.last))\n",
    "    \n",
    "    def raise_pay(self):\n",
    "        self.pay += 10\n",
    "        \n",
    "    def __str__(self):\n",
    "        return (\"Employee {} {} has a pay of {}\".format(self.first,\n",
    "                                                        self.last,\n",
    "                                                        self.pay))\n",
    "    def __call__(self):\n",
    "        return \"first name: {}, last name: {}, pay: {}, email: {}\".format(self.first, self.last, self.pay, self.email)\n",
    "    \n",
    "    def __add__(self, other): \n",
    "        return (self.pay + other.pay)"
   ]
  },
  {
   "cell_type": "code",
   "execution_count": 82,
   "metadata": {},
   "outputs": [
    {
     "name": "stdout",
     "output_type": "stream",
     "text": [
      "first name: Jake, last name: Tan, pay: 200, email: Jake.Tan@company.com\n",
      "Hello, my name is Jake Tan!\n"
     ]
    }
   ],
   "source": [
    "emp_3 = Employee(\"Amy\", \"Tan\", 100)\n",
    "emp_3.raise_pay()\n",
    "\n",
    "emp_4 = Employee(\"Jake\", \"Tan\", 200)\n",
    "print(emp_4())\n",
    "# print(emp_3.introduce())\n",
    "print(emp_4.introduce())"
   ]
  },
  {
   "cell_type": "code",
   "execution_count": 83,
   "metadata": {},
   "outputs": [
    {
     "name": "stdout",
     "output_type": "stream",
     "text": [
      "310\n"
     ]
    }
   ],
   "source": [
    "total_pay = emp_4 + emp_3 \n",
    "print(total_pay)"
   ]
  },
  {
   "cell_type": "code",
   "execution_count": 84,
   "metadata": {},
   "outputs": [],
   "source": [
    "class Employee(object): \n",
    "    def __init__(self, first = \"None\", last = \"None\", pay = \"None\"): \n",
    "        self.first = first\n",
    "        self.last = last\n",
    "        self.pay = pay \n",
    "        self.email = first + '.' + last + '@company.com'\n",
    "    \n",
    "    def introduce(self):\n",
    "        return (\"Hello, my name is {} {}!\".format(self.first, self.last))\n",
    "    \n",
    "    def raise_pay(self):\n",
    "        self.pay += 10\n",
    "        \n",
    "    def __str__(self):\n",
    "        return (\"Employee {} {} has a pay of {}\".format(self.first,\n",
    "                                                        self.last,\n",
    "                                                        self.pay))\n",
    "    def __call__(self):\n",
    "        return \"first name: {}, last name: {}, pay: {}, email: {}\".format(self.first, self.last, self.pay, self.email)\n",
    "    \n",
    "    def __add__(self, other): \n",
    "        return (self.pay + other.pay)\n",
    "    \n",
    "    def deduct(self, amt):\n",
    "        self.pay -= amt"
   ]
  },
  {
   "cell_type": "code",
   "execution_count": 85,
   "metadata": {},
   "outputs": [
    {
     "name": "stdout",
     "output_type": "stream",
     "text": [
      "first name: Amy, last name: Tan, pay: 60, email: Amy.Tan@company.com\n"
     ]
    }
   ],
   "source": [
    "emp_3 = Employee(\"Amy\", \"Tan\", 100)\n",
    "emp_3.raise_pay()\n",
    "emp_3.deduct(50)\n",
    "\n",
    "print(emp_3())"
   ]
  },
  {
   "cell_type": "markdown",
   "metadata": {},
   "source": [
    "Discussion point - which methods are fruitful, and which methods are void?"
   ]
  },
  {
   "cell_type": "markdown",
   "metadata": {},
   "source": [
    "\n",
    "\n",
    "\n",
    "\n",
    "\n",
    "\n",
    "\n"
   ]
  },
  {
   "cell_type": "markdown",
   "metadata": {},
   "source": [
    "### Challenge 3\n",
    "\n",
    "Allows 2 banks to add their blaance up \n",
    "\n",
    "__Bonus: Allow for the object to be instantiated without any parameters. \n",
    "Hint: when you define the init function, give the parameters some default value.__"
   ]
  },
  {
   "cell_type": "markdown",
   "metadata": {},
   "source": [
    "### Take Home\n",
    "\n",
    "Create a cat class. \n",
    "\n",
    "The cat has some predefined attributes, such as \n",
    "number of legs = 4, \n",
    "number of whiskers = 8\n",
    "\n",
    "The cat has a weight, speed and hp attribute that is defined at the point of instantiation.\n",
    "\n",
    "The cat has an eat() method. After eating, it gains weight, gains hp and its speed decreases. It will also say \"Thank you for feeding me\". \n",
    "\n",
    "The cat has a tickle() method. After being tickled, it will print \"ha ha ha\" \n",
    "\n",
    "Lastly, it has an attack() method. If it attacks another cat, the other cat's hp will decrease."
   ]
  },
  {
   "cell_type": "code",
   "execution_count": null,
   "metadata": {},
   "outputs": [],
   "source": []
  }
 ],
 "metadata": {
  "kernelspec": {
   "display_name": "Python 3",
   "language": "python",
   "name": "python3"
  },
  "language_info": {
   "codemirror_mode": {
    "name": "ipython",
    "version": 3
   },
   "file_extension": ".py",
   "mimetype": "text/x-python",
   "name": "python",
   "nbconvert_exporter": "python",
   "pygments_lexer": "ipython3",
   "version": "3.6.5"
  }
 },
 "nbformat": 4,
 "nbformat_minor": 2
}
